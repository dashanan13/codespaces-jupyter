{
 "cells": [
  {
   "cell_type": "code",
   "execution_count": 1,
   "metadata": {},
   "outputs": [
    {
     "data": {
      "text/html": [
       "<marquee style='width: 30%; color: blue;'><b>Hello ROS!</b></marquee>\n"
      ],
      "text/plain": [
       "<IPython.core.display.HTML object>"
      ]
     },
     "metadata": {},
     "output_type": "display_data"
    }
   ],
   "source": [
    "%%html\n",
    "<marquee style='width: 30%; color: blue;'><b>Hello ROS!</b></marquee>"
   ]
  },
  {
   "cell_type": "code",
   "execution_count": 2,
   "metadata": {},
   "outputs": [
    {
     "data": {
      "text/html": [
       "<marquee style='width: 50%; color: red;'><b>ALWAYS SOURCE on EVERY NEW SHELL: source devel/setup.bash </b></marquee>\n"
      ],
      "text/plain": [
       "<IPython.core.display.HTML object>"
      ]
     },
     "metadata": {},
     "output_type": "display_data"
    }
   ],
   "source": [
    "%%html\n",
    "<marquee style='width: 50%; color: red;'><b>ALWAYS SOURCE on EVERY NEW SHELL: source devel/setup.bash </b></marquee>"
   ]
  },
  {
   "attachments": {},
   "cell_type": "markdown",
   "metadata": {},
   "source": [
    "**ROS services**\n",
    "ROS services are programs that can be called to be executed over a period of time, the service must be runnnig for them to be called.\n",
    "While working on a service a robot can not take up another task\n",
    "\n",
    "**ROS Topics**\n",
    "ROS Topics are communication channel or communication bus which are used to pass messages from on construct in ROS to another, they involve publisher and lister components\n",
    "\n",
    "**ROS actions**\n",
    "ROS actions are similar to services, in the sense that they also allow you to code a functionality for your robot, and then provide it so that anyone can call it.\n",
    "Action serve must be runnning before issuing command\n",
    "While working on a action a robot can continue to work on another task"
   ]
  },
  {
   "attachments": {},
   "cell_type": "markdown",
   "metadata": {},
   "source": [
    "**ROS Packages**\n",
    "ROS Packages are all the files a program needs\n",
    "1. launch folder: Contains launch files\n",
    "2. src folder: Source files (cpp, python)\n",
    "3. CMakeLists.txt: List of cmake rules for compilation\n",
    "4. package.xml: Package information and dependencies\n",
    "\n",
    "Execution: roslaunch <package_name> <launch_file>\n",
    "Path where the package package_name is located:  roscd <package_name>\n"
   ]
  },
  {
   "attachments": {},
   "cell_type": "markdown",
   "metadata": {},
   "source": [
    "**Create a ROS package**\n",
    "1. Need to be in the catkin workspace, catkin_ws\n",
    "2. roscd, takes you directly to that directory\n",
    "3. catkin_ws/src, has the source for all packages\n",
    "\n",
    "cd src\n",
    "catkin_create_pkg <package_name> <package_dependecies>\n",
    "\n",
    "List packages created: rospack list"
   ]
  },
  {
   "attachments": {},
   "cell_type": "markdown",
   "metadata": {},
   "source": [
    "**Create a ROS program**\n",
    "1. Need to be in the catkin workspace, catkin_ws\n",
    "2. roscd, takes you directly to that directory\n",
    "3. catkin_ws/src, has the source for all packages\n",
    "4. create the program file with source code that defines the node and what it achives\n",
    "5. <optional> create a launch file that will set parameters and values\n",
    "6. compile the package: catkin_make, it needs to be issued in your catkin_ws directory in order to work\n",
    "\n",
    "! remember to source the package before use, source devel/setup.bash\n",
    ">catkin_make --only-pkg-with-deps my_package, This command will only compile the packages specified and its dependencies.\n",
    "\n"
   ]
  },
  {
   "attachments": {},
   "cell_type": "markdown",
   "metadata": {},
   "source": [
    "**Parameter Server**\n",
    "A Parameter Server is a dictionary that ROS uses to store parameters. These parameters can be used by nodes at runtime and are normally used for static data, such as configuration parameters.\n",
    "\n",
    "'rosparam list'\n",
    "\n",
    "To get a value of a particular parameter, you can type:\n",
    "\n",
    "'rosparam get <parameter_name>'\n",
    "\n",
    "And to set a value to a parameter, you can type:\n",
    "\n",
    "'rosparam set <parameter_name> <value>'\n"
   ]
  },
  {
   "attachments": {},
   "cell_type": "markdown",
   "metadata": {},
   "source": [
    "**roscore**\n",
    "roscore is the main process that manages all of the ROS system. You always need to have a roscore running in order to work with ROS. The command that launches a roscore is:\n",
    "\n",
    ">roscore\n"
   ]
  },
  {
   "attachments": {},
   "cell_type": "markdown",
   "metadata": {},
   "source": [
    "A **publisher** is a node that keeps publishing a message into a topic. So now... what's a topic?\n",
    "\n",
    "A **topic** is a channel that acts as a pipe, where other ROS nodes can either publish or read information"
   ]
  },
  {
   "attachments": {},
   "cell_type": "markdown",
   "metadata": {},
   "source": [
    "\n",
    "1. To get a list of available topics in a ROS system, you have to use the next command: rostopic list\n",
    "2. To read the information that is being published in a topic, use the next command: rostopic echo <topic_name>\n",
    "3. Read just the last message published into a topic with the next command: rostopic echo <topic_name> -n1\n",
    "4. To get information about a certain topic, use the next command: rostopic info <topic_name>\n",
    "5. Finally, you can check the different options that rostopic command has by using the next command: rostopic -h\n",
    "\n",
    "* rostopic bw     display bandwidth used by topic\n",
    "* rostopic delay  display delay of topic from timestamp in header\n",
    "* rostopic echo   print messages to screen\n",
    "* rostopic find   find topics by type\n",
    "* rostopic hz     display publishing rate of topic\n",
    "* rostopic info   print information about active topic\n",
    "* rostopic list   list active topics\n",
    "* rostopic pub    publish data to topic\n",
    "* rostopic type   print topic or field type"
   ]
  },
  {
   "attachments": {},
   "cell_type": "markdown",
   "metadata": {},
   "source": [
    "Topics handle information through **messages**. There are many different types of messages\n",
    "Messages are defined in .msg files, which are located inside a msg directory of a package.\n",
    "To get information about a message, you use the next command: rosmsg show <message>    (example: rosmsg show std_msgs/Int32)\n",
    "\n",
    "\n",
    "This Int32 message comes from the package std_msgs, and you can find it in its msg directory. \n",
    "If you want, you can have a look at the Int32.msg file by executing the following command: roscd std_msgs/msg/\n",
    "\n",
    "* rosmsg show     Show message description\n",
    "* rosmsg info     Alias for rosmsg show\n",
    "* rosmsg list     List all messages\n",
    "* rosmsg md5      Display message md5sum\n",
    "* rosmsg package  List messages in a package\n",
    "* rosmsg packages List packages that contain messages"
   ]
  },
  {
   "attachments": {},
   "cell_type": "markdown",
   "metadata": {},
   "source": []
  }
 ],
 "metadata": {
  "kernelspec": {
   "display_name": "Python 3",
   "language": "python",
   "name": "python3"
  },
  "language_info": {
   "codemirror_mode": {
    "name": "ipython",
    "version": 3
   },
   "file_extension": ".py",
   "mimetype": "text/x-python",
   "name": "python",
   "nbconvert_exporter": "python",
   "pygments_lexer": "ipython3",
   "version": "3.10.4"
  },
  "orig_nbformat": 4,
  "vscode": {
   "interpreter": {
    "hash": "3ad933181bd8a04b432d3370b9dc3b0662ad032c4dfaa4e4f1596c548f763858"
   }
  }
 },
 "nbformat": 4,
 "nbformat_minor": 2
}
