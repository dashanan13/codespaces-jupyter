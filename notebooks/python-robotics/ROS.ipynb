{
 "cells": [
  {
   "cell_type": "code",
   "execution_count": 1,
   "metadata": {},
   "outputs": [
    {
     "data": {
      "text/html": [
       "<marquee style='width: 30%; color: blue;'><b>Hello ROS!</b></marquee>\n"
      ],
      "text/plain": [
       "<IPython.core.display.HTML object>"
      ]
     },
     "metadata": {},
     "output_type": "display_data"
    }
   ],
   "source": [
    "%%html\n",
    "<marquee style='width: 30%; color: blue;'><b>Hello ROS!</b></marquee>"
   ]
  },
  {
   "attachments": {},
   "cell_type": "markdown",
   "metadata": {},
   "source": [
    "**ROS services**\n",
    "ROS services are programs that can be called to be executed over a period of time, the service must be runnnig for them to be called.\n",
    "While working on a service a robot can not take up another task\n",
    "\n",
    "**ROS Topics**\n",
    "ROS Topics are communication channel or communication bus which are used to pass messages from on construct in ROS to another, they involve publisher and lister components\n",
    "\n",
    "**ROS actions**\n",
    "ROS actions are similar to services, in the sense that they also allow you to code a functionality for your robot, and then provide it so that anyone can call it.\n",
    "Action serve must be runnning before issuing command\n",
    "While working on a action a robot can continue to work on another task"
   ]
  },
  {
   "attachments": {},
   "cell_type": "markdown",
   "metadata": {},
   "source": [
    "**ROS Packages**\n",
    "ROS Packages are all the files a program needs\n",
    "1. launch folder: Contains launch files\n",
    "2. src folder: Source files (cpp, python)\n",
    "3. CMakeLists.txt: List of cmake rules for compilation\n",
    "4. package.xml: Package information and dependencies\n",
    "\n",
    "Execution: roslaunch <package_name> <launch_file>\n",
    "Path where the package package_name is located:  roscd <package_name>\n"
   ]
  },
  {
   "attachments": {},
   "cell_type": "markdown",
   "metadata": {},
   "source": [
    "**Create a ROS package**\n",
    "1. Need to be in the catkin workspace, catkin_ws\n",
    "2. roscd, takes you directly to that directory\n",
    "3. catkin_ws/src, has the source for all packages\n",
    "\n",
    "cd src\n",
    "catkin_create_pkg <package_name> <package_dependecies>\n",
    "\n",
    "List packages created: rospack list"
   ]
  },
  {
   "attachments": {},
   "cell_type": "markdown",
   "metadata": {},
   "source": [
    "**Create a ROS program**\n",
    "1. Need to be in the catkin workspace, catkin_ws\n",
    "2. roscd, takes you directly to that directory\n",
    "3. catkin_ws/src, has the source for all packages\n",
    "4. create the program file with source code that defines the node and what it achives\n",
    "5. <optional> create a launch file that will set parameters and values\n",
    "6. compile the package: catkin_make, it needs to be issued in your catkin_ws directory in order to work\n",
    "\n",
    "! remember to source the package before use, source devel/setup.bash\n",
    ">catkin_make --only-pkg-with-deps my_package, This command will only compile the packages specified and its dependencies.\n",
    "\n"
   ]
  },
  {
   "attachments": {},
   "cell_type": "markdown",
   "metadata": {},
   "source": [
    "**Parameter Server**\n",
    "A Parameter Server is a dictionary that ROS uses to store parameters. These parameters can be used by nodes at runtime and are normally used for static data, such as configuration parameters.\n",
    "\n",
    "'rosparam list'\n",
    "\n",
    "To get a value of a particular parameter, you can type:\n",
    "\n",
    "'rosparam get <parameter_name>'\n",
    "\n",
    "And to set a value to a parameter, you can type:\n",
    "\n",
    "'rosparam set <parameter_name> <value>'\n"
   ]
  },
  {
   "attachments": {},
   "cell_type": "markdown",
   "metadata": {},
   "source": [
    "**roscore**\n",
    "roscore is the main process that manages all of the ROS system. You always need to have a roscore running in order to work with ROS. The command that launches a roscore is:\n",
    "\n",
    ">roscore\n"
   ]
  }
 ],
 "metadata": {
  "kernelspec": {
   "display_name": "Python 3",
   "language": "python",
   "name": "python3"
  },
  "language_info": {
   "codemirror_mode": {
    "name": "ipython",
    "version": 3
   },
   "file_extension": ".py",
   "mimetype": "text/x-python",
   "name": "python",
   "nbconvert_exporter": "python",
   "pygments_lexer": "ipython3",
   "version": "3.10.4 (main, Nov 29 2022, 20:00:25) [GCC 9.4.0]"
  },
  "orig_nbformat": 4,
  "vscode": {
   "interpreter": {
    "hash": "3ad933181bd8a04b432d3370b9dc3b0662ad032c4dfaa4e4f1596c548f763858"
   }
  }
 },
 "nbformat": 4,
 "nbformat_minor": 2
}
