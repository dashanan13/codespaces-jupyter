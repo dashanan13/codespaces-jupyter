{
 "cells": [
  {
   "cell_type": "code",
   "execution_count": 6,
   "metadata": {},
   "outputs": [
    {
     "data": {
      "text/html": [
       "<marquee style='width: 30%; color: blue;'><b>Hello World!</b></marquee>\n"
      ],
      "text/plain": [
       "<IPython.core.display.HTML object>"
      ]
     },
     "metadata": {},
     "output_type": "display_data"
    }
   ],
   "source": [
    "%%html\n",
    "<marquee style='width: 30%; color: blue;'><b>Hello World!</b></marquee>"
   ]
  },
  {
   "attachments": {},
   "cell_type": "markdown",
   "metadata": {},
   "source": [
    "Matrix: Colunms go down and rows go side ways\n",
    "$$\n",
    "b=\\begin{bmatrix}\n",
    "0 & 1 & 2 \\\\\n",
    "-3 & 4 & -5 \n",
    "\\end{bmatrix}\n",
    "$$\n",
    "There are 3 columns and 2 rows in this matrix"
   ]
  },
  {
   "attachments": {},
   "cell_type": "markdown",
   "metadata": {},
   "source": [
    "NumPy arrays have a fixed size at creation, unlike Python lists (which can grow dynamically). Changing the size of an ndarray will create a new array and delete the original. The elements in a NumPy array are all required to be of the same data type, and thus will be the same size in memory.          "
   ]
  },
  {
   "cell_type": "code",
   "execution_count": 7,
   "metadata": {},
   "outputs": [],
   "source": [
    "import numpy as np # import numpy\n",
    "import matplotlib.pyplot as plt # import matplotlib for plotting graphs\n",
    "\n",
    "%matplotlib notebook\n",
    "plt.rcParams['figure.figsize'] = [10, 6] # configuring graph size"
   ]
  },
  {
   "cell_type": "code",
   "execution_count": 8,
   "metadata": {},
   "outputs": [
    {
     "name": "stdout",
     "output_type": "stream",
     "text": [
      "simple 6x7 matrix\n",
      "a= [[ 0  1  2  3  4  5  6]\n",
      " [ 7  8  9 10 11 12 13]\n",
      " [14 15 16 17 18 19 20]\n",
      " [21 22 23 24 25 26 27]\n",
      " [28 29 30 31 32 33 34]\n",
      " [35 36 37 38 39 40 41]]\n",
      "dimension of matrix= (6, 7)\n"
     ]
    }
   ],
   "source": [
    "print(\"simple 6x7 matrix\")\n",
    "a = np.arange(42).reshape(6, 7)\n",
    "print('a=', a)\n",
    "print('dimension of matrix=', a.shape)"
   ]
  },
  {
   "cell_type": "code",
   "execution_count": 9,
   "metadata": {},
   "outputs": [
    {
     "name": "stdout",
     "output_type": "stream",
     "text": [
      "access matrix rows\n",
      "a[0] = [0 1 2 3 4 5 6]\n",
      "a[2] = [21 22 23 24 25 26 27]\n",
      "a[-1] = [35 36 37 38 39 40 41]\n"
     ]
    }
   ],
   "source": [
    "print(\"access matrix rows\")\n",
    "print(\"a[0] =\", a[0]) # First Row\n",
    "print(\"a[2] =\", a[3]) # Third Row\n",
    "print(\"a[-1] =\", a[-1]) # Last Row (3rd row in this case)"
   ]
  },
  {
   "cell_type": "code",
   "execution_count": 10,
   "metadata": {},
   "outputs": [
    {
     "name": "stdout",
     "output_type": "stream",
     "text": [
      "access matrix columns\n",
      "a[:,0] = [ 0  7 14 21 28 35]\n",
      "a[:,3] = [ 5 12 19 26 33 40]\n",
      "a[:,-1] = [ 6 13 20 27 34 41]\n"
     ]
    }
   ],
   "source": [
    "print(\"access matrix columns\")\n",
    "print(\"a[:,0] =\",a[:,0]) # First Column\n",
    "print(\"a[:,3] =\", a[:,5]) # Fourth Column\n",
    "print(\"a[:,-1] =\", a[:,-1]) # Last Column (4th column in this case)"
   ]
  },
  {
   "cell_type": "code",
   "execution_count": 11,
   "metadata": {},
   "outputs": [
    {
     "name": "stdout",
     "output_type": "stream",
     "text": [
      "slicing a matrix\n",
      "a[:,2:5] = [ 0  7 14 21 28 35]\n"
     ]
    }
   ],
   "source": [
    "print(\"slicing a matrix\")\n",
    "print(\"a[:,2:5] =\",a[:,0]) # All rows, third to the fifth column"
   ]
  },
  {
   "cell_type": "code",
   "execution_count": 12,
   "metadata": {},
   "outputs": [
    {
     "name": "stdout",
     "output_type": "stream",
     "text": [
      "simple 2x3 matrix with float elements\n",
      "b= [[1.1 2.  3. ]\n",
      " [3.  4.  5. ]]\n"
     ]
    }
   ],
   "source": [
    "print(\"simple 2x3 matrix with float elements\")\n",
    "b = np.array([[1.1, 2, 3], [3, 4, 5]]) # Array of floats\n",
    "print('b=', b)"
   ]
  },
  {
   "cell_type": "code",
   "execution_count": 13,
   "metadata": {},
   "outputs": [
    {
     "name": "stdout",
     "output_type": "stream",
     "text": [
      "simple 2x3 matrix with complex elements\n",
      "c= [[1.+0.j 2.+0.j 3.+0.j]\n",
      " [3.+0.j 4.+0.j 5.+0.j]]\n"
     ]
    }
   ],
   "source": [
    "print(\"simple 2x3 matrix with complex elements\")\n",
    "c = np.array([[1, 2, 3], [3, 4, 5]], dtype = complex) # Array of complex numbers\n",
    "print('c=', c)"
   ]
  },
  {
   "cell_type": "code",
   "execution_count": 14,
   "metadata": {},
   "outputs": [
    {
     "name": "stdout",
     "output_type": "stream",
     "text": [
      "reshaping an array dimension\n",
      "d= [[1.1 2. ]\n",
      " [3.  3. ]\n",
      " [4.  5. ]]\n",
      "dimension of matrix= (3, 2)\n"
     ]
    }
   ],
   "source": [
    "print(\"reshaping an array dimension\")\n",
    "d = b.reshape(3,2)\n",
    "print('d=', d)\n",
    "print('dimension of matrix=', d.shape)"
   ]
  },
  {
   "cell_type": "code",
   "execution_count": 15,
   "metadata": {},
   "outputs": [
    {
     "name": "stdout",
     "output_type": "stream",
     "text": [
      "resize an array dimension\n",
      "e = [[1.1 2.  3.  3. ]\n",
      " [4.  5.  1.1 2. ]\n",
      " [3.  3.  4.  5. ]\n",
      " [1.1 2.  3.  3. ]]\n",
      "dimension of matrix= (4, 4)\n"
     ]
    }
   ],
   "source": [
    "print(\"resize an array dimension\")\n",
    "e = np.resize(b,(4,4))\n",
    "print('e =', e)\n",
    "print('dimension of matrix=', e.shape)"
   ]
  },
  {
   "cell_type": "code",
   "execution_count": 16,
   "metadata": {},
   "outputs": [
    {
     "name": "stdout",
     "output_type": "stream",
     "text": [
      "matrix addition\n",
      "h = [[11  1]\n",
      " [ 8  0]]\n"
     ]
    }
   ],
   "source": [
    "print(\"matrix addition\")\n",
    "f = np.array([[2, 4], [5, -6]])\n",
    "g = np.array([[9, -3], [3, 6]])\n",
    "h = f + g\n",
    "print('h =', h)"
   ]
  },
  {
   "cell_type": "code",
   "execution_count": 17,
   "metadata": {},
   "outputs": [
    {
     "name": "stdout",
     "output_type": "stream",
     "text": [
      "matrix transpose\n",
      "i = [[11  8]\n",
      " [ 1  0]]\n"
     ]
    }
   ],
   "source": [
    "print(\"matrix transpose\")\n",
    "i = h.transpose()\n",
    "print('i =', i)"
   ]
  },
  {
   "cell_type": "code",
   "execution_count": 18,
   "metadata": {},
   "outputs": [
    {
     "name": "stdout",
     "output_type": "stream",
     "text": [
      "matrix multiplication\n",
      "j = [[122  88]\n",
      " [ 88  64]]\n"
     ]
    }
   ],
   "source": [
    "print(\"matrix multiplication\")\n",
    "j = h.dot(i)\n",
    "print('j =', j)"
   ]
  },
  {
   "cell_type": "code",
   "execution_count": 19,
   "metadata": {},
   "outputs": [
    {
     "name": "stdout",
     "output_type": "stream",
     "text": [
      "matrix multiplication\n",
      "k = [77  0]\n"
     ]
    }
   ],
   "source": [
    "print(\"matrix multiplication\")\n",
    "k = np.cross(h, i)\n",
    "print('k =', k)"
   ]
  }
 ],
 "metadata": {
  "kernelspec": {
   "display_name": "Python 3",
   "language": "python",
   "name": "python3"
  },
  "language_info": {
   "codemirror_mode": {
    "name": "ipython",
    "version": 3
   },
   "file_extension": ".py",
   "mimetype": "text/x-python",
   "name": "python",
   "nbconvert_exporter": "python",
   "pygments_lexer": "ipython3",
   "version": "3.10.4 (main, Nov 29 2022, 20:00:25) [GCC 9.4.0]"
  },
  "orig_nbformat": 4,
  "vscode": {
   "interpreter": {
    "hash": "3ad933181bd8a04b432d3370b9dc3b0662ad032c4dfaa4e4f1596c548f763858"
   }
  }
 },
 "nbformat": 4,
 "nbformat_minor": 2
}
