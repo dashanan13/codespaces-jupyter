{
 "cells": [
  {
   "cell_type": "code",
   "execution_count": 1,
   "metadata": {},
   "outputs": [
    {
     "data": {
      "text/html": [
       "<marquee style='width: 30%; color: blue;'><b>Hello Matrix!</b></marquee>\n"
      ],
      "text/plain": [
       "<IPython.core.display.HTML object>"
      ]
     },
     "metadata": {},
     "output_type": "display_data"
    }
   ],
   "source": [
    "%%html\n",
    "<marquee style='width: 30%; color: blue;'><b>Hello Matrix!</b></marquee>"
   ]
  },
  {
   "attachments": {},
   "cell_type": "markdown",
   "metadata": {},
   "source": [
    "Matrix: Colunms go down and rows go side ways\n",
    "$$\n",
    "b=\\begin{bmatrix}\n",
    "0 & 1 & 2 \\\\\n",
    "-3 & 4 & -5 \n",
    "\\end{bmatrix}\n",
    "$$\n",
    "There are 3 columns and 2 rows in this matrix"
   ]
  },
  {
   "attachments": {},
   "cell_type": "markdown",
   "metadata": {},
   "source": [
    "NumPy arrays have a fixed size at creation, unlike Python lists (which can grow dynamically). Changing the size of an ndarray will create a new array and delete the original. The elements in a NumPy array are all required to be of the same data type, and thus will be the same size in memory.          "
   ]
  },
  {
   "cell_type": "code",
   "execution_count": 2,
   "metadata": {},
   "outputs": [],
   "source": [
    "import numpy as np # import numpy\n",
    "import matplotlib.pyplot as plt # import matplotlib for plotting graphs\n",
    "\n",
    "%matplotlib notebook\n",
    "plt.rcParams['figure.figsize'] = [10, 6] # configuring graph size"
   ]
  },
  {
   "cell_type": "code",
   "execution_count": 3,
   "metadata": {},
   "outputs": [
    {
     "name": "stdout",
     "output_type": "stream",
     "text": [
      "simple 6x7 matrix\n",
      "a= [[ 0  1  2  3  4  5  6]\n",
      " [ 7  8  9 10 11 12 13]\n",
      " [14 15 16 17 18 19 20]\n",
      " [21 22 23 24 25 26 27]\n",
      " [28 29 30 31 32 33 34]\n",
      " [35 36 37 38 39 40 41]]\n",
      "dimension of matrix= (6, 7)\n"
     ]
    }
   ],
   "source": [
    "print(\"simple 6x7 matrix\")\n",
    "a = np.arange(42).reshape(6, 7)\n",
    "print('a=', a)\n",
    "print('dimension of matrix=', a.shape)"
   ]
  },
  {
   "cell_type": "code",
   "execution_count": 4,
   "metadata": {},
   "outputs": [
    {
     "name": "stdout",
     "output_type": "stream",
     "text": [
      "access matrix rows\n",
      "a[0] = [0 1 2 3 4 5 6]\n",
      "a[2] = [21 22 23 24 25 26 27]\n",
      "a[-1] = [35 36 37 38 39 40 41]\n"
     ]
    }
   ],
   "source": [
    "print(\"access matrix rows\")\n",
    "print(\"a[0] =\", a[0]) # First Row\n",
    "print(\"a[2] =\", a[3]) # Third Row\n",
    "print(\"a[-1] =\", a[-1]) # Last Row (3rd row in this case)"
   ]
  },
  {
   "cell_type": "code",
   "execution_count": 5,
   "metadata": {},
   "outputs": [
    {
     "name": "stdout",
     "output_type": "stream",
     "text": [
      "access matrix columns\n",
      "a[:,0] = [ 0  7 14 21 28 35]\n",
      "a[:,3] = [ 5 12 19 26 33 40]\n",
      "a[:,-1] = [ 6 13 20 27 34 41]\n"
     ]
    }
   ],
   "source": [
    "print(\"access matrix columns\")\n",
    "print(\"a[:,0] =\",a[:,0]) # First Column\n",
    "print(\"a[:,3] =\", a[:,5]) # Fourth Column\n",
    "print(\"a[:,-1] =\", a[:,-1]) # Last Column (4th column in this case)"
   ]
  },
  {
   "cell_type": "code",
   "execution_count": 6,
   "metadata": {},
   "outputs": [
    {
     "name": "stdout",
     "output_type": "stream",
     "text": [
      "slicing a matrix\n",
      "a[:,2:5] = [ 0  7 14 21 28 35]\n"
     ]
    }
   ],
   "source": [
    "print(\"slicing a matrix\")\n",
    "print(\"a[:,2:5] =\",a[:,0]) # All rows, third to the fifth column"
   ]
  },
  {
   "cell_type": "code",
   "execution_count": 7,
   "metadata": {},
   "outputs": [
    {
     "name": "stdout",
     "output_type": "stream",
     "text": [
      "simple 2x3 matrix with float elements\n",
      "b= [[1.1 2.  3. ]\n",
      " [3.  4.  5. ]]\n"
     ]
    }
   ],
   "source": [
    "print(\"simple 2x3 matrix with float elements\")\n",
    "b = np.array([[1.1, 2, 3], [3, 4, 5]]) # Array of floats\n",
    "print('b=', b)"
   ]
  },
  {
   "cell_type": "code",
   "execution_count": 8,
   "metadata": {},
   "outputs": [
    {
     "name": "stdout",
     "output_type": "stream",
     "text": [
      "simple 2x3 matrix with complex elements\n",
      "c= [[1.+0.j 2.+0.j 3.+0.j]\n",
      " [3.+0.j 4.+0.j 5.+0.j]]\n"
     ]
    }
   ],
   "source": [
    "print(\"simple 2x3 matrix with complex elements\")\n",
    "c = np.array([[1, 2, 3], [3, 4, 5]], dtype = complex) # Array of complex numbers\n",
    "print('c=', c)"
   ]
  },
  {
   "cell_type": "code",
   "execution_count": 9,
   "metadata": {},
   "outputs": [
    {
     "name": "stdout",
     "output_type": "stream",
     "text": [
      "reshaping an array dimension\n",
      "d= [[1.1 2. ]\n",
      " [3.  3. ]\n",
      " [4.  5. ]]\n",
      "dimension of matrix= (3, 2)\n"
     ]
    }
   ],
   "source": [
    "print(\"reshaping an array dimension\")\n",
    "d = b.reshape(3,2)\n",
    "print('d=', d)\n",
    "print('dimension of matrix=', d.shape)"
   ]
  },
  {
   "cell_type": "code",
   "execution_count": 10,
   "metadata": {},
   "outputs": [
    {
     "name": "stdout",
     "output_type": "stream",
     "text": [
      "resize an array dimension\n",
      "e = [[1.1 2.  3.  3. ]\n",
      " [4.  5.  1.1 2. ]\n",
      " [3.  3.  4.  5. ]\n",
      " [1.1 2.  3.  3. ]]\n",
      "dimension of matrix= (4, 4)\n"
     ]
    }
   ],
   "source": [
    "print(\"resize an array dimension\")\n",
    "e = np.resize(b,(4,4))\n",
    "print('e =', e)\n",
    "print('dimension of matrix=', e.shape)"
   ]
  },
  {
   "cell_type": "code",
   "execution_count": 11,
   "metadata": {},
   "outputs": [
    {
     "name": "stdout",
     "output_type": "stream",
     "text": [
      "matrix addition\n",
      "h = [[11  1]\n",
      " [ 8  0]]\n"
     ]
    }
   ],
   "source": [
    "print(\"matrix addition\")\n",
    "f = np.array([[2, 4], [5, -6]])\n",
    "g = np.array([[9, -3], [3, 6]])\n",
    "h = f + g\n",
    "print('h =', h)"
   ]
  },
  {
   "cell_type": "code",
   "execution_count": 12,
   "metadata": {},
   "outputs": [
    {
     "name": "stdout",
     "output_type": "stream",
     "text": [
      "matrix transpose\n",
      "i = [[11  8]\n",
      " [ 1  0]]\n"
     ]
    }
   ],
   "source": [
    "print(\"matrix transpose\")\n",
    "i = h.transpose()\n",
    "print('i =', i)"
   ]
  },
  {
   "cell_type": "code",
   "execution_count": 13,
   "metadata": {},
   "outputs": [
    {
     "name": "stdout",
     "output_type": "stream",
     "text": [
      "matrix multiplication\n",
      "j = [[122  88]\n",
      " [ 88  64]]\n"
     ]
    }
   ],
   "source": [
    "print(\"matrix multiplication\")\n",
    "j = h.dot(i)\n",
    "print('j =', j)"
   ]
  },
  {
   "cell_type": "code",
   "execution_count": 14,
   "metadata": {},
   "outputs": [
    {
     "name": "stdout",
     "output_type": "stream",
     "text": [
      "matrix multiplication\n",
      "k = [77  0]\n"
     ]
    },
    {
     "name": "stderr",
     "output_type": "stream",
     "text": [
      "Bad pipe message: %s [b'\\x11n\\xce\\x9d\\x19]\\xad\\xe9\\x13F{\\x18\\xe5F\\xae\\x92\\xc5Z ;\\t\\xf5\\xecX5\\xf1c\\xd0}w\\xe7\\xccY\\xbbo\\xfb\\xa90T\\xf0\\x9c5\\x9cd\\xf2\\xe5\\xc1\\xfd\\xf4F.\\x00\\x08\\x13\\x02\\x13\\x03\\x13\\x01\\x00\\xff\\x01\\x00\\x00\\x8f\\x00\\x00\\x00\\x0e\\x00\\x0c\\x00\\x00\\t127.0.0.1\\x00\\x0b\\x00\\x04\\x03\\x00\\x01\\x02\\x00\\n\\x00\\x0c\\x00\\n\\x00\\x1d\\x00\\x17\\x00\\x1e\\x00\\x19\\x00\\x18\\x00#\\x00\\x00\\x00\\x16\\x00\\x00\\x00\\x17\\x00\\x00\\x00\\r\\x00\\x1e\\x00\\x1c\\x04\\x03\\x05\\x03\\x06\\x03\\x08\\x07\\x08\\x08\\x08\\t\\x08\\n\\x08\\x0b\\x08\\x04\\x08\\x05\\x08\\x06\\x04\\x01\\x05\\x01\\x06\\x01\\x00+\\x00\\x03\\x02\\x03\\x04\\x00-\\x00\\x02\\x01\\x01\\x003\\x00&\\x00$\\x00\\x1d']\n",
      "Bad pipe message: %s [b'\\xce\\xa8l\\x819\\x11\\xe1\\xceF\\xe9\\xc3l5,\\xe2O\\xe2\\xfc \\xcfY?\\x0cS\\xe8S)\\xe8\\x0e\\xcd\\x1b\\xdeYL~Pfp\\t\\xde\\xbdh\\x08\"\\xf6K\\xd7\\x1buS\\xc0\\x00\\x08\\x13\\x02\\x13\\x03\\x13\\x01\\x00\\xff\\x01\\x00\\x00\\x8f\\x00\\x00\\x00\\x0e\\x00\\x0c\\x00\\x00\\t127.0.0.1\\x00\\x0b\\x00\\x04\\x03\\x00\\x01\\x02\\x00\\n\\x00\\x0c\\x00\\n\\x00\\x1d\\x00\\x17\\x00\\x1e\\x00\\x19\\x00\\x18\\x00#\\x00\\x00\\x00\\x16\\x00\\x00\\x00\\x17\\x00\\x00\\x00\\r\\x00\\x1e\\x00\\x1c\\x04\\x03\\x05\\x03\\x06\\x03\\x08\\x07\\x08\\x08\\x08\\t\\x08\\n\\x08\\x0b\\x08\\x04\\x08\\x05\\x08\\x06\\x04\\x01\\x05']\n",
      "Bad pipe message: %s [b'4ex\\xc5\\x97\\x8c']\n",
      "Bad pipe message: %s [b'']\n",
      "Bad pipe message: %s [b\"\\xb3tF\\x97+\\x95.\\xaf\\xb9U\\x00\\x00|\\xc0,\\xc00\\x00\\xa3\\x00\\x9f\\xcc\\xa9\\xcc\\xa8\\xcc\\xaa\\xc0\\xaf\\xc0\\xad\\xc0\\xa3\\xc0\\x9f\\xc0]\\xc0a\\xc0W\\xc0S\\xc0+\\xc0/\\x00\\xa2\\x00\\x9e\\xc0\\xae\\xc0\\xac\\xc0\\xa2\\xc0\\x9e\\xc0\\\\\\xc0`\\xc0V\\xc0R\\xc0$\\xc0(\\x00k\\x00j\\xc0#\\xc0'\\x00g\\x00@\\xc0\\n\\xc0\\x14\\x009\\x008\\xc0\\t\\xc0\\x13\\x003\\x002\\x00\\x9d\\xc0\\xa1\\xc0\\x9d\\xc0Q\\x00\\x9c\\xc0\\xa0\\xc0\\x9c\\xc0P\\x00=\\x00<\\x005\\x00/\\x00\"]\n",
      "Bad pipe message: %s [b\"B\\x1c-\\xb4\\xc3\\x8b\\xc9fC\\xce\\x98\\xc4\\x8d\\x89\\xfa\\x04!\\x05\\x00\\x00\\xa6\\xc0,\\xc00\\x00\\xa3\\x00\\x9f\\xcc\\xa9\\xcc\\xa8\\xcc\\xaa\\xc0\\xaf\\xc0\\xad\\xc0\\xa3\\xc0\\x9f\\xc0]\\xc0a\\xc0W\\xc0S\\xc0+\\xc0/\\x00\\xa2\\x00\\x9e\\xc0\\xae\\xc0\\xac\\xc0\\xa2\\xc0\\x9e\\xc0\\\\\\xc0`\\xc0V\\xc0R\\xc0$\\xc0(\\x00k\\x00j\\xc0s\\xc0w\\x00\\xc4\\x00\\xc3\\xc0#\\xc0'\\x00g\\x00@\\xc0r\\xc0v\\x00\\xbe\\x00\\xbd\\xc0\\n\\xc0\\x14\\x009\\x008\\x00\\x88\\x00\\x87\\xc0\\t\\xc0\\x13\\x003\\x002\\x00\\x9a\\x00\\x99\\x00E\\x00D\\xc0\\x07\\xc0\\x11\\xc0\\x08\\xc0\\x12\\x00\\x16\\x00\\x13\\x00\\x9d\\xc0\\xa1\\xc0\\x9d\\xc0Q\\x00\\x9c\\xc0\\xa0\\xc0\\x9c\\xc0P\\x00=\\x00\\xc0\\x00<\\x00\\xba\\x005\\x00\\x84\\x00/\\x00\\x96\\x00A\\x00\\x05\\x00\\n\"]\n",
      "Bad pipe message: %s [b'']\n",
      "Bad pipe message: %s [b'\\x03\\x02\\x03\\x04\\x00-\\x00\\x02\\x01\\x01\\x003\\x00&\\x00$\\x00\\x1d\\x00 \\x05\\t\\xc7\\x82J\\xc8e\\xb3X\\xfe\\x9d1\\x82\\x99\\xe0\\xb6\\xf6\\x8f\\xfe\\\\\\xa9b']\n",
      "Bad pipe message: %s [b'#1\\xcf\\x10\\x1e\\xff\\xb0\\x99\\x07\\xc9:\\xf1\\xe1\\xe3Oq\\x85q\\x00\\x00>\\xc0\\x14\\xc0\\n\\x009\\x008\\x007\\x006\\xc0\\x0f\\xc0\\x05\\x005\\xc0\\x13\\xc0\\t\\x003\\x002\\x001\\x000\\xc0\\x0e\\xc0\\x04\\x00/\\x00\\x9a\\x00\\x99\\x00\\x98\\x00\\x97\\x00\\x96\\x00\\x07\\xc0\\x11\\xc0\\x07\\xc0\\x0c\\xc0\\x02\\x00\\x05\\x00\\x04\\x00\\xff\\x02\\x01\\x00\\x00C\\x00\\x00\\x00\\x0e\\x00\\x0c\\x00\\x00\\t127.0.0.1\\x00\\x0b\\x00\\x04\\x03\\x00\\x01\\x02\\x00\\n\\x00\\x1c\\x00\\x1a\\x00\\x17\\x00\\x19\\x00\\x1c\\x00\\x1b\\x00\\x18\\x00\\x1a\\x00\\x16\\x00\\x0e\\x00', b'\\x0b\\x00\\x0c\\x00\\t\\x00\\n\\x00#\\x00\\x00\\x00']\n",
      "Bad pipe message: %s [b'8W\\xfc\\xe7\\x95\\xe1\\xbb\\xd2\\xb07,\\x18\\xdfN\\xe8\\x0e\\xed\\x07\\x00\\x00\\xa2\\xc0\\x14\\xc0\\n\\x009\\x008\\x007\\x006\\x00\\x88\\x00\\x87\\x00\\x86\\x00\\x85\\xc0\\x19\\x00:\\x00\\x89\\xc0\\x0f\\xc0\\x05\\x005\\x00\\x84\\xc0\\x13\\xc0\\t\\x003\\x002\\x001\\x000\\x00\\x9a\\x00\\x99\\x00\\x98\\x00\\x97\\x00E\\x00D\\x00C\\x00B\\xc0\\x18\\x004\\x00\\x9b\\x00F\\xc0\\x0e\\xc0\\x04\\x00/\\x00\\x96\\x00A\\x00\\x07\\xc0\\x11\\xc0\\x07\\xc0\\x16\\x00\\x18\\xc0\\x0c\\xc0\\x02\\x00\\x05\\x00\\x04\\xc0\\x12\\xc0\\x08\\x00\\x16\\x00\\x13\\x00\\x10\\x00\\r\\xc0']\n",
      "Bad pipe message: %s [b'\\x1b\\xc0\\r\\xc0\\x03\\x00\\n\\x00\\x15\\x00\\x12\\x00\\x0f\\x00\\x0c\\x00\\x1a\\x00\\t\\x00\\x14\\x00']\n",
      "Bad pipe message: %s [b'\\x19\\x00\\x08\\x00\\x06\\x00\\x17\\x00\\x03\\xc0\\x10\\xc0\\x06\\xc0\\x15\\xc0']\n",
      "Bad pipe message: %s [b'\\x01\\x00\\x02\\x00\\x01\\x00\\xff\\x02\\x01\\x00']\n",
      "Bad pipe message: %s [b'\\xd7*\\xd2\\xb0\\xff\\x96\\\\?\\x02\\x0fT\\xc6\\x08\\x01\\xba_+\\x19\\x00\\x00>\\xc0\\x14\\xc0\\n\\x009\\x008\\x007\\x006\\xc0\\x0f\\xc0\\x05\\x005\\xc0\\x13\\xc0\\t\\x003\\x002\\x001\\x000\\xc0\\x0e\\xc0\\x04\\x00/\\x00\\x9a\\x00\\x99\\x00\\x98\\x00\\x97\\x00\\x96\\x00\\x07\\xc0\\x11\\xc0\\x07\\xc0\\x0c\\xc0\\x02\\x00\\x05\\x00\\x04\\x00\\xff\\x02\\x01\\x00\\x00C\\x00\\x00\\x00\\x0e\\x00\\x0c\\x00\\x00\\t127.0.0.1\\x00\\x0b\\x00\\x04\\x03\\x00\\x01\\x02\\x00\\n\\x00\\x1c\\x00\\x1a\\x00\\x17\\x00\\x19\\x00\\x1c\\x00\\x1b\\x00\\x18\\x00\\x1a\\x00\\x16\\x00\\x0e\\x00\\r\\x00\\x0b\\x00\\x0c\\x00\\t\\x00', b'#\\x00\\x00\\x00\\x0f\\x00\\x01\\x01\\x15']\n",
      "Bad pipe message: %s [b'\\xe2\\xe6\\xf6\\x0b\\xa6\\xe9\\x8826\\xa3\\x89\\x93L\\\\DU\\xe8\\xf7\\x00\\x00\\xa2\\xc0\\x14\\xc0\\n\\x009\\x008\\x007\\x006\\x00\\x88\\x00\\x87\\x00\\x86\\x00\\x85\\xc0\\x19\\x00:\\x00\\x89\\xc0\\x0f\\xc0\\x05\\x005\\x00\\x84\\xc0\\x13\\xc0\\t\\x003\\x002\\x001\\x000\\x00\\x9a\\x00\\x99\\x00\\x98\\x00\\x97\\x00E\\x00D\\x00C\\x00B\\xc0\\x18\\x004\\x00\\x9b\\x00F\\xc0\\x0e\\xc0\\x04\\x00/\\x00\\x96\\x00A\\x00\\x07\\xc0\\x11\\xc0\\x07\\xc0\\x16\\x00\\x18\\xc0\\x0c\\xc0\\x02\\x00\\x05\\x00\\x04\\xc0\\x12\\xc0\\x08\\x00\\x16\\x00\\x13\\x00\\x10\\x00\\r\\xc0\\x17\\x00\\x1b\\xc0\\r\\xc0\\x03\\x00\\n\\x00\\x15\\x00\\x12\\x00\\x0f\\x00\\x0c\\x00\\x1a\\x00\\t\\x00\\x14\\x00\\x11\\x00']\n",
      "Bad pipe message: %s [b'\\x08\\x00\\x06\\x00\\x17\\x00\\x03\\xc0\\x10\\xc0\\x06\\xc0\\x15\\xc0\\x0b\\xc0\\x01\\x00\\x02\\x00\\x01\\x00\\xff\\x02']\n",
      "Bad pipe message: %s [b'']\n",
      "Bad pipe message: %s [b'']\n",
      "Bad pipe message: %s [b'P\\xddcMd\\xb1\\xabn\\xc1\\x10\\x8cV\\xfa\\xb0\\xf0\\xd1\\t\\xbe\\x00\\x00\\xf4\\xc00\\xc0,\\xc0(\\xc0$\\xc0\\x14\\xc0\\n\\x00']\n",
      "Bad pipe message: %s [b\"\\xa3\\x00\\xa1\\x00\\x9f\\x00k\\x00j\\x00i\\x00h\\x009\\x008\\x007\\x006\\x00\\x88\\x00\\x87\\x00\\x86\\x00\\x85\\xc0\\x19\\x00\\xa7\\x00m\\x00:\\x00\\x89\\xc02\\xc0.\\xc0*\\xc0&\\xc0\\x0f\\xc0\\x05\\x00\\x9d\\x00=\\x005\\x00\\x84\\xc0/\\xc0+\\xc0'\\xc0#\\xc0\\x13\\xc0\\t\\x00\\xa4\\x00\\xa2\\x00\\xa0\\x00\\x9e\\x00g\\x00@\\x00?\\x00>\\x003\\x002\\x001\\x000\\x00\\x9a\\x00\\x99\\x00\\x98\\x00\\x97\\x00E\\x00D\\x00C\\x00B\\xc0\\x18\\x00\\xa6\\x00l\\x004\\x00\\x9b\\x00F\\xc01\\xc0-\\xc0)\\xc0%\\xc0\\x0e\\xc0\\x04\\x00\\x9c\\x00<\\x00/\\x00\\x96\\x00A\\x00\\x07\\xc0\\x11\\xc0\\x07\\xc0\\x16\\x00\\x18\\xc0\\x0c\\xc0\\x02\\x00\\x05\\x00\\x04\\xc0\"]\n",
      "Bad pipe message: %s [b'\\x08\\x00\\x16\\x00\\x13\\x00\\x10\\x00\\r\\xc0\\x17\\x00\\x1b\\xc0\\r\\xc0\\x03']\n"
     ]
    }
   ],
   "source": [
    "print(\"matrix multiplication\")\n",
    "k = np.cross(h, i)\n",
    "print('k =', k)"
   ]
  },
  {
   "cell_type": "code",
   "execution_count": null,
   "metadata": {},
   "outputs": [],
   "source": []
  }
 ],
 "metadata": {
  "kernelspec": {
   "display_name": "Python 3",
   "language": "python",
   "name": "python3"
  },
  "language_info": {
   "codemirror_mode": {
    "name": "ipython",
    "version": 3
   },
   "file_extension": ".py",
   "mimetype": "text/x-python",
   "name": "python",
   "nbconvert_exporter": "python",
   "pygments_lexer": "ipython3",
   "version": "3.10.4"
  },
  "orig_nbformat": 4,
  "vscode": {
   "interpreter": {
    "hash": "3ad933181bd8a04b432d3370b9dc3b0662ad032c4dfaa4e4f1596c548f763858"
   }
  }
 },
 "nbformat": 4,
 "nbformat_minor": 2
}
